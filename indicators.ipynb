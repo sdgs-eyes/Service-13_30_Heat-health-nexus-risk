{
 "cells": [
  {
   "cell_type": "markdown",
   "id": "e5066335",
   "metadata": {},
   "source": [
    "## Libraries"
   ]
  },
  {
   "cell_type": "code",
   "execution_count": 2,
   "id": "35edd6ca",
   "metadata": {},
   "outputs": [],
   "source": [
    "import xarray as xr\n",
    "import matplotlib.pyplot as plt\n",
    "from netCDF4 import Dataset\n",
    "import numpy as np\n",
    "from matplotlib import cm\n",
    "from mpl_toolkits.basemap import Basemap\n",
    "import pandas as pd\n",
    "import matplotlib.colors as plc \n",
    "import xclim.indices as xc\n",
    "from xclim.indices import warm_and_dry_days\n",
    "from xclim.indices import warm_and_wet_days\n",
    "from xclim.core.calendar import percentile_doy\n",
    "#import pymannkendall as mk\n",
    "import geopandas as gpd"
   ]
  },
  {
   "cell_type": "code",
   "execution_count": 3,
   "id": "95b8e7cb",
   "metadata": {},
   "outputs": [],
   "source": [
    "from xclim.core.units import (\n",
    "    convert_units_to,\n",
    "    declare_units,\n",
    "    ensure_delta,\n",
    "    pint2cfunits,\n",
    "    rate2amount,\n",
    "    str2pint,\n",
    "    to_agg_units,\n",
    ")\n",
    "from xclim.core.calendar import resample_doy"
   ]
  },
  {
   "cell_type": "markdown",
   "id": "5183df5d",
   "metadata": {},
   "source": [
    "## Colorbar"
   ]
  },
  {
   "cell_type": "code",
   "execution_count": 4,
   "id": "f109021b",
   "metadata": {},
   "outputs": [
    {
     "name": "stdout",
     "output_type": "stream",
     "text": [
      "Using colormap /work/remhi/gg21021/Zapata_colormaps/zapata/SciVis_colormaps/3w_bgYr.xml\n"
     ]
    }
   ],
   "source": [
    "import sys\n",
    "sys.path.insert(0,'/work/remhi/gg21021/Zapata_colormaps/zapata')\n",
    "import colormap as zcol\n",
    "ss = zcol.make_cmap('3w_bgYr', colpath ='/work/remhi/gg21021/Zapata_colormaps/zapata/SciVis_colormaps')"
   ]
  },
  {
   "cell_type": "markdown",
   "id": "23668969",
   "metadata": {},
   "source": [
    "## SUMMER DAYS"
   ]
  },
  {
   "cell_type": "markdown",
   "id": "964cdbca",
   "metadata": {},
   "source": [
    "## Number of days with daily maximum temperature greater than 25°C. "
   ]
  },
  {
   "cell_type": "code",
   "execution_count": 7,
   "id": "9ac664ff",
   "metadata": {},
   "outputs": [],
   "source": [
    "##DATA\n",
    "#Loading data: Max. Temperature\n",
    "data_temp= xr.open_dataset('/work/remhi/ap21322/SDG/box_2km/TMAX_2M_1991_2020_VHR-REA_IT_comune_torino.nc') \n",
    "tasmax=data_temp['TMAX_2M']\n",
    "tasmax.attrs[\"units\"] = \"K\""
   ]
  },
  {
   "cell_type": "code",
   "execution_count": 8,
   "id": "7ecee384",
   "metadata": {},
   "outputs": [],
   "source": [
    "##Evaluation\n",
    "#Evaluation of the indicator through the xclim library\n",
    "Su=xc.tx_days_above(tasmax, thresh='25 degC', freq='YS')\n",
    "Su_mean=Su.mean(dim='time')\n",
    "Su_mean=Su_mean.to_dataset(name='Su')\n",
    "Su=Su_mean.to_netcdf('/work/remhi/ap21322/SDG/netcdf_indicator/su_era5-2km-italy_year_comune_torino_1991-2020.nc')"
   ]
  },
  {
   "cell_type": "code",
   "execution_count": 118,
   "id": "bbcaf8d8",
   "metadata": {},
   "outputs": [],
   "source": [
    "#CSV\n",
    "Su_mean=Su.mean(dim= ['rlat','rlon']) \n",
    "Su_std=Su.std(dim= ['rlat','rlon'])\n",
    "df=Su_mean.to_dataframe().reset_index().drop(columns=[ 'height_2m']).rename(columns= {'TMAX_2M':'Su[days]'})\n",
    "df_std=Su_std.to_dataframe().reset_index().drop(columns=['height_2m']).rename(columns= {'TMAX_2M':'Std[days]'})\n",
    "df['Std[days]'] = np.round(df_std['Std[days]'],0)\n",
    "df['Su[days]'] = np.round(df['Su[days]'],0)\n",
    "df.to_csv('/work/remhi/ap21322/SDG/csv/su_era5-2km-italy_year_comune_torino_1991-2020.csv',index=False)"
   ]
  },
  {
   "cell_type": "code",
   "execution_count": 51,
   "id": "499d5c6d",
   "metadata": {},
   "outputs": [],
   "source": [
    "#ShapeFile\n",
    "mask_ds = xr.open_dataset('/work/remhi/ap21322/SDG/sh_mask_To/Mask_To_new.nc')\n",
    "msk_me = mask_ds['mask_torino_new']\n",
    "\n",
    "Su_mean= Su.mean(dim='time')\n",
    "clip_var = msk_me * Su_mean\n",
    "ds=clip_var.to_dataset(name='Su[d]')\n",
    "df=ds.to_dataframe().reset_index().drop(columns=[ 'rlon', 'rlat', 'height_2m']).dropna().reset_index(drop=True)\n",
    "df['Su[d]'] = np.round(df['Su[d]'],0)\n",
    "from shapely.geometry import Point\n",
    "\n",
    "geometry = [Point(xy) for xy in zip(df['lon'], df['lat'])]\n",
    "df['geometry'] = geometry\n",
    "gdf = gpd.GeoDataFrame(df, geometry='geometry')\n",
    "gdf.to_file('/work/remhi/ap21322/SDG/shape/summer_days/su_era5-2km-italy_year_comune_torino_1991-2020.shp', driver='ESRI Shapefile')"
   ]
  },
  {
   "cell_type": "code",
   "execution_count": 9,
   "id": "5bdcb3ba",
   "metadata": {},
   "outputs": [
    {
     "data": {
      "text/plain": [
       "Text(0.5, 1.0, 'Summer days')"
      ]
     },
     "execution_count": 9,
     "metadata": {},
     "output_type": "execute_result"
    },
    {
     "data": {
      "image/png": "[encoded data removed]",
      "text/plain": [
       "<Figure size 432x288 with 2 Axes>"
      ]
     },
     "metadata": {
      "needs_background": "light"
     },
     "output_type": "display_data"
    }
   ],
   "source": [
    "#Map\n",
    "ds = xr.open_dataset('/work/remhi/ap21322/SDG/netcdf_indicator/su_era5-2km-italy_year_comune_torino_1991-2020.nc')\n",
    "\n",
    "Su =  np.round((ds['Su']),0)\n",
    "lon = ds.lon.values\n",
    "lat = ds.lat.values\n",
    "\n",
    "vmax = round(np.nanmax(Su),0)\n",
    "vmin = 0\n",
    "\n",
    "ticks = np.round(np.arange(vmin, vmax+3,10),1)\n",
    "ticks1 = np.append(ticks, vmax)\n",
    "ticks_label = np.round(np.arange(vmin, vmax+3, 10),1)\n",
    "ticks_label1 = np.append(ticks_label, vmax)\n",
    "colors = ss(np.linspace(0.6, 0.96, len(ticks)-1))\n",
    "\n",
    "\n",
    "cmap = plc.ListedColormap(colors)\n",
    "\n",
    "mask_ds = xr.open_dataset('/work/remhi/ap21322/SDG/sh_mask_To/Mask_To_new.nc')\n",
    "msk_me = mask_ds['mask_torino_new']\n",
    "\n",
    "\n",
    "clip_var = msk_me * Su\n",
    "mp = Basemap(projection= 'merc', llcrnrlon= np.nanmin(lon) , llcrnrlat= np.nanmin(lat), urcrnrlon= np.nanmax(lon) , urcrnrlat= np.nanmax(lat) , resolution= 'i')\n",
    "mp.drawmapboundary()\n",
    "\n",
    "x,y = mp(lon,lat)\n",
    "mp.drawcoastlines(linewidth = 1)\n",
    "mp.drawmapboundary()\n",
    "mp.readshapefile('/work/remhi/ap21322/SDG/sh_mask_To/torino', 'torino', linewidth = 1)\n",
    "\n",
    "c_scheme = mp.pcolor(x,y,np.squeeze(clip_var[:,:]), cmap= cmap)\n",
    "\n",
    "cbar= mp.colorbar(c_scheme, location ='right',pad = '1%',ticks = ticks_label)\n",
    "plt.clim(vmin = vmin, vmax= vmax+3)\n",
    "cbar.set_label('days')\n",
    "plt.title('Summer days')\n",
    "plt.savefig('/work/remhi/ap21322/SDG/mappe_indicatori/su_era5-2km-italy_year_comune_torino_1991-2020.png', dpi = 300)"
   ]
  },
  {
   "cell_type": "markdown",
   "id": "336d7b3a",
   "metadata": {},
   "source": [
    "## Tropical Nights"
   ]
  },
  {
   "cell_type": "markdown",
   "id": "5e1ca135",
   "metadata": {},
   "source": [
    "##  Number of days with daily minimum temperature greater than 20°C."
   ]
  },
  {
   "cell_type": "code",
   "execution_count": 121,
   "id": "a760c7e6",
   "metadata": {},
   "outputs": [],
   "source": [
    "##DATA\n",
    "#Loading data: Min. Temperature\n",
    "data_temp= xr.open_dataset('/work/remhi/ap21322/SDG/box_2km/TMIN_2M_1991_2020_VHR-REA_IT_comune_torino.nc')\n",
    "tn=data_temp['TMIN_2M']\n",
    "tn.attrs[\"units\"] = \"K\""
   ]
  },
  {
   "cell_type": "code",
   "execution_count": 122,
   "id": "4ba198c5",
   "metadata": {},
   "outputs": [],
   "source": [
    "##Evaluation\n",
    "#Evaluationof the indicator through the xclim library\n",
    "Tr= xc.tn_days_above(tn, thresh='20.0 degC', freq='YS')\n",
    "Tr_mean=Tr.mean(dim='time')\n",
    "Tr_mean=Tr_mean.to_dataset(name='Tr')\n",
    "Tr=Tr_mean.to_netcdf('/work/remhi/ap21322/SDG/netcdf_indicator/tr_era5-2km-italy_year_comune_torino_1991-2020.nc')"
   ]
  },
  {
   "cell_type": "code",
   "execution_count": 123,
   "id": "7f868ded",
   "metadata": {},
   "outputs": [],
   "source": [
    "#CSV\n",
    "Tr_mean=Tr.mean(dim= ['rlat','rlon'])\n",
    "Tr_std=Tr.std(dim= ['rlat','rlon'])\n",
    "df=Tr_mean.to_dataframe().reset_index().drop(columns=[ 'height_2m']).rename(columns= {'TMIN_2M':'Tr[days]'})\n",
    "df_std=Tr_std.to_dataframe().reset_index().drop(columns=['height_2m']).rename(columns= {'TMIN_2M':'Std[days]'})\n",
    "df['Std[days]'] = np.round(df_std['Std[days]'],0)\n",
    "df['Tr[days]'] = np.round(df['Tr[days]'],0)\n",
    "df.to_csv('/work/remhi/ap21322/SDG/csv/tr_era5-2km-italy_year_comune_torino_1991-2020.csv',index=False)"
   ]
  },
  {
   "cell_type": "code",
   "execution_count": 54,
   "id": "2c8055b3",
   "metadata": {},
   "outputs": [],
   "source": [
    "#ShapeFile\n",
    "mask_ds = xr.open_dataset('/work/remhi/ap21322/SDG/sh_mask_To/Mask_To_new.nc')\n",
    "msk_me = mask_ds['mask_torino_new']\n",
    "\n",
    "Tr_mean= Tr.mean(dim='time')\n",
    "clip_var = msk_me * Tr_mean\n",
    "ds=clip_var.to_dataset(name='Tr[d]')\n",
    "df=ds.to_dataframe().reset_index().drop(columns=[ 'rlon', 'rlat', 'height_2m']).dropna().reset_index(drop=True)\n",
    "df['Tr[d]'] = np.round(df['Tr[d]'],0)\n",
    "from shapely.geometry import Point\n",
    "\n",
    "geometry = [Point(xy) for xy in zip(df['lon'], df['lat'])]\n",
    "df['geometry'] = geometry\n",
    "gdf = gpd.GeoDataFrame(df, geometry='geometry')\n",
    "gdf.to_file('/work/remhi/ap21322/SDG/shape/tropical_night/tr_era5-2km-italy_year_comune_torino_1991-2020.shp', driver='ESRI Shapefile')"
   ]
  },
  {
   "cell_type": "code",
   "execution_count": 21,
   "id": "225e3b94",
   "metadata": {},
   "outputs": [
    {
     "data": {
      "image/png": "[encoded data removed]",
      "text/plain": [
       "<Figure size 432x288 with 2 Axes>"
      ]
     },
     "metadata": {
      "needs_background": "light"
     },
     "output_type": "display_data"
    }
   ],
   "source": [
    "#Map\n",
    "ds = xr.open_dataset('/work/remhi/ap21322/SDG/netcdf_indicator/tr_era5-2km-italy_year_comune_torino_1991-2020.nc')\n",
    "\n",
    "Tr = np.round((ds['Tr']),0)\n",
    "lon = ds.lon.values\n",
    "lat = ds.lat.values\n",
    "\n",
    "vmax = round(np.nanmax(Tr),0)\n",
    "vmin = 0\n",
    "\n",
    "ticks = np.round(np.arange(vmin, vmax+1,5),1)\n",
    "ticks1 = np.append(ticks, vmax)\n",
    "ticks_label = np.round(np.arange(vmin, vmax+1, 5),1)\n",
    "ticks_label1 = np.append(ticks_label, vmax)\n",
    "colors = ss(np.linspace(0.6, 0.96, len(ticks)-1))\n",
    "\n",
    "\n",
    "cmap = plc.ListedColormap(colors)\n",
    "\n",
    "mask_ds = xr.open_dataset('/work/remhi/ap21322/SDG/sh_mask_To/Mask_To_new.nc')\n",
    "msk_me = mask_ds['mask_torino_new']\n",
    "\n",
    "\n",
    "clip_var = msk_me * Tr\n",
    "mp = Basemap(projection= 'merc', llcrnrlon= np.nanmin(lon) , llcrnrlat= np.nanmin(lat), urcrnrlon= np.nanmax(lon) , urcrnrlat= np.nanmax(lat) , resolution= 'i')\n",
    "mp.drawmapboundary()\n",
    "\n",
    "x,y = mp(lon,lat)\n",
    "mp.drawcoastlines(linewidth = 1)\n",
    "mp.drawmapboundary()\n",
    "mp.readshapefile('/work/remhi/ap21322/SDG/sh_mask_To/torino', 'torino', linewidth = 1)\n",
    "\n",
    "c_scheme = mp.pcolor(x,y,np.squeeze(clip_var[:,:]), cmap= cmap)\n",
    "\n",
    "cbar= mp.colorbar(c_scheme, location ='right',pad = '1%',ticks = ticks_label)\n",
    "plt.clim(vmin = vmin, vmax= vmax+1)\n",
    "cbar.set_label('days')\n",
    "plt.title('Tropical Nights')\n",
    "plt.savefig('/work/remhi/ap21322/SDG/mappe_indicatori/tr_era5-2km-italy_year_comune_torino_1991-2020.png', dpi = 300)"
   ]
  },
  {
   "cell_type": "markdown",
   "id": "e80cd48d",
   "metadata": {},
   "source": [
    "## Hot Waves"
   ]
  },
  {
   "cell_type": "markdown",
   "id": "91a46421",
   "metadata": {},
   "source": [
    "## Number of days with daily maximum temperature greater than 35°C."
   ]
  },
  {
   "cell_type": "code",
   "execution_count": 12,
   "id": "8f4e03d6",
   "metadata": {},
   "outputs": [],
   "source": [
    "##DATA\n",
    "#Loading data: Max. Temperature\n",
    "data_temp= xr.open_dataset('/work/remhi/ap21322/SDG/box_2km/TMAX_2M_1991_2020_VHR-REA_IT_comune_torino.nc')\n",
    "tasmax=data_temp['TMAX_2M']\n",
    "tasmax.attrs[\"units\"] = \"K\""
   ]
  },
  {
   "cell_type": "code",
   "execution_count": 13,
   "id": "2df30e89",
   "metadata": {},
   "outputs": [],
   "source": [
    "##Evaluation\n",
    "#Evaluationof the indicator through the xclim library\n",
    "Hw=xc.tx_days_above(tasmax, thresh='35 degC', freq='YS')\n",
    "Hw_mean=Hw.mean(dim='time')\n",
    "Hw_mean=Hw_mean.to_dataset(name='Hw')\n",
    "Hw=Hw_mean.to_netcdf('/work/remhi/ap21322/SDG/netcdf_indicator/hw_era5-2km-italy_year_comune_torino_1991-2020.nc')"
   ]
  },
  {
   "cell_type": "code",
   "execution_count": 128,
   "id": "fe976d0c",
   "metadata": {},
   "outputs": [],
   "source": [
    "#CSV\n",
    "Hw_mean=Hw.mean(dim= ['rlat','rlon']) \n",
    "Hw_std=Hw.std(dim= ['rlat','rlon'])\n",
    "df=Hw_mean.to_dataframe().reset_index().drop(columns=[ 'height_2m']).rename(columns= {'TMAX_2M':'Hw[days]'})\n",
    "df_std=Hw_std.to_dataframe().reset_index().drop(columns=['height_2m']).rename(columns= {'TMAX_2M':'Std[days]'})\n",
    "df['Std[days]'] = np.round(df_std['Std[days]'],0)\n",
    "df['Hw[days]'] = np.round(df['Hw[days]'],0)\n",
    "df.to_csv('/work/remhi/ap21322/SDG/csv/hw_era5-2km-italy_year_comune_torino_1991-2020.csv',index=False)"
   ]
  },
  {
   "cell_type": "code",
   "execution_count": 57,
   "id": "ca561bd9",
   "metadata": {},
   "outputs": [],
   "source": [
    "#ShapeFile\n",
    "mask_ds = xr.open_dataset('/work/remhi/ap21322/SDG/sh_mask_To/Mask_To_new.nc')\n",
    "msk_me = mask_ds['mask_torino_new']\n",
    "\n",
    "Hw_mean= Hw.mean(dim='time')\n",
    "clip_var = msk_me * Hw_mean\n",
    "ds=clip_var.to_dataset(name='Hw[d]')\n",
    "df=ds.to_dataframe().reset_index().drop(columns=[ 'rlon', 'rlat', 'height_2m']).dropna().reset_index(drop=True)\n",
    "df['Hw[d]'] = np.round(df['Hw[d]'],0)\n",
    "from shapely.geometry import Point\n",
    "\n",
    "geometry = [Point(xy) for xy in zip(df['lon'], df['lat'])]\n",
    "df['geometry'] = geometry\n",
    "gdf = gpd.GeoDataFrame(df, geometry='geometry')\n",
    "gdf.to_file('/work/remhi/ap21322/SDG/shape/hot_waves/hw_era5-2km-italy_year_comune_torino_1991-2020.shp', driver='ESRI Shapefile')"
   ]
  },
  {
   "cell_type": "code",
   "execution_count": 22,
   "id": "bb644691",
   "metadata": {},
   "outputs": [
    {
     "name": "stderr",
     "output_type": "stream",
     "text": [
      "/work/remhi/ap21322/miniconda3/envs/ale/lib/python3.7/site-packages/matplotlib/text.py:1165: FutureWarning: elementwise comparison failed; returning scalar instead, but in the future will perform elementwise comparison\n",
      "  if s != self._text:\n"
     ]
    },
    {
     "data": {
      "image/png": "[encoded data removed]",
      "text/plain": [
       "<Figure size 432x288 with 2 Axes>"
      ]
     },
     "metadata": {
      "needs_background": "light"
     },
     "output_type": "display_data"
    }
   ],
   "source": [
    "#Map\n",
    "ds = xr.open_dataset('/work/remhi/ap21322/SDG/netcdf_indicator/hw_era5-2km-italy_year_comune_torino_1991-2020.nc')\n",
    "\n",
    "Hw = np.round((ds['Hw']),0)\n",
    "lon = ds.lon.values\n",
    "lat = ds.lat.values\n",
    "\n",
    "vmax = round(np.nanmax(Hw),0) \n",
    "vmin = 0\n",
    "\n",
    "ticks = np.round(np.arange(vmin, vmax+1,4),0)\n",
    "ticks_label = np.round(np.arange(vmin, vmax+1,4),0)\n",
    "colors = ss(np.linspace(0.6, 0.97, len(ticks)))\n",
    "\n",
    "\n",
    "cmap = plc.ListedColormap(colors)\n",
    "\n",
    "mask_ds = xr.open_dataset('/work/remhi/ap21322/SDG/sh_mask_To/Mask_To_new.nc')\n",
    "msk_me = mask_ds['mask_torino_new']\n",
    "\n",
    "\n",
    "clip_var = msk_me * Hw\n",
    "mp = Basemap(projection= 'merc', llcrnrlon= np.nanmin(lon) , llcrnrlat= np.nanmin(lat), urcrnrlon= np.nanmax(lon) , urcrnrlat= np.nanmax(lat) , resolution= 'i')\n",
    "mp.drawmapboundary()\n",
    "\n",
    "x,y = mp(lon,lat)\n",
    "mp.drawcoastlines(linewidth = 1)\n",
    "mp.drawmapboundary()\n",
    "mp.readshapefile('/work/remhi/ap21322/SDG/sh_mask_To/torino', 'torino', linewidth = 1)\n",
    "\n",
    "c_scheme = mp.pcolor(x,y,np.squeeze(clip_var[:,:]), cmap= cmap)\n",
    "\n",
    "cbar= mp.colorbar(c_scheme, location ='right',pad = '1%',ticks = ticks, label= ticks_label)\n",
    "plt.clim(vmin = vmin, vmax= vmax+1)\n",
    "cbar.set_label('days')\n",
    "plt.title('Hot Waves')\n",
    "#plt.savefig('/work/remhi/ap21322/SDG/mappe_indicatori/hw_era5-2km-italy_year_comune_torino_1991-2020.png', dpi = 300)"
   ]
  },
  {
   "cell_type": "markdown",
   "id": "d7c6d69c",
   "metadata": {},
   "source": [
    "## Humidex5"
   ]
  },
  {
   "cell_type": "markdown",
   "id": "0d9aefb3",
   "metadata": {},
   "source": [
    "## It is a measure of perceived heat that results from the combined effect of humidity and temperature. Category 5: number of days per year in which the humidex index is greater than 45°C. "
   ]
  },
  {
   "cell_type": "code",
   "execution_count": 58,
   "id": "8e4f7671",
   "metadata": {},
   "outputs": [],
   "source": [
    "##DATA\n",
    "#Loading data: Temperature, humidity and pressure \n",
    "data_umidità_s = xr.open_dataset('/work/remhi/ap21322/SDG/box_2km/QV_2M_1991_2020_VHR-REA_IT_comune_torino.nc')\n",
    "q=data_umidità_s['QV_2M']\n",
    "q = q.load()\n",
    "data_temp=xr.open_dataset('/work/remhi/ap21322/SDG/box_2km/T_2M_1991_2020_VHR-REA_IT_comune_torino.nc')\n",
    "t=data_temp['T_2M']\n",
    "t = t.load()\n",
    "data_press=xr.open_dataset('/work/remhi/ap21322/SDG/box_2km/PMSL_1991_2020_VHR-REA_IT_comune_torino.nc')\n",
    "p=data_press['PMSL']\n",
    "p = p.load()"
   ]
  },
  {
   "cell_type": "code",
   "execution_count": 59,
   "id": "ac3bf192",
   "metadata": {},
   "outputs": [],
   "source": [
    "#Components for the evaluation of the index\n",
    "T0 = 273.15\n",
    "w = q #the mixing ratio can be approximated with the specific humidity\n",
    "\n",
    "es = 611.0 * np.exp((17.67*(t - T0)) / (t - 29.65))\n",
    "\n",
    "w_s =0.622*(es / p)\n",
    "rh = np.round((w / w_s) * 100)\n",
    "\n",
    "rh = xr.where(rh > 100, 100, rh)\n",
    "rh.attrs[\"units\"] = \"%\"\n",
    "rh = rh.load()"
   ]
  },
  {
   "cell_type": "code",
   "execution_count": 60,
   "id": "a06f9c25",
   "metadata": {},
   "outputs": [],
   "source": [
    "#Loading data: Max. temperature\n",
    "data_tempmax=xr.open_dataset('/work/remhi/ap21322/SDG/box_2km/TMAX_2M_1991_2020_VHR-REA_IT_comune_torino.nc')\n",
    "tasmax=data_tempmax['TMAX_2M']\n",
    "tasmax = tasmax.load()\n",
    "tasmax_deg=tasmax-273.15\n",
    "tasmax_deg = tasmax_deg.load()"
   ]
  },
  {
   "cell_type": "code",
   "execution_count": 61,
   "id": "15ce0059",
   "metadata": {},
   "outputs": [],
   "source": [
    "#Evaluation\n",
    "exphum=6.11*10**(7.5*tasmax_deg/(237.7+tasmax_deg))*rh.values/100;\n",
    "humidex=tasmax_deg+0.5555*(exphum-10);\n",
    "classe_media1=xr.where(humidex >=45,1,0)   #Category 5-number of days per year in which the humidex index is greater than 45°C.\n",
    "classe_media2=classe_media1.resample(time='1Y').sum(dim='time')\n",
    "classe_media3=classe_media2.mean(dim='time')\n",
    "classe_media3=classe_media3.to_dataset(name='Humidex5')\n",
    "Humidex5=classe_media3.to_netcdf('/work/remhi/ap21322/SDG/netcdf_indicator/humidex-5_era5-2km-italy_year_comune_torino_1991-2020.nc')"
   ]
  },
  {
   "cell_type": "code",
   "execution_count": 117,
   "id": "4d06adce",
   "metadata": {},
   "outputs": [],
   "source": [
    "#CSV\n",
    "ds=classe_media2.to_dataset(name='Humidex5[days]')\n",
    "Humidex_mean=ds.mean(dim= ['rlat','rlon'])\n",
    "Humidex_std=ds.std(dim= ['rlat','rlon'])\n",
    "df=Humidex_mean.to_dataframe().reset_index().drop(columns=[ 'height_2m'])\n",
    "df_std=Humidex_std.to_dataframe().reset_index().drop(columns=['height_2m']).rename(columns= {'Humidex5[days]':'Std[days]'})\n",
    "df['Std[days]'] = np.round(df_std['Std[days]'],0)\n",
    "df['Humidex5[days]'] = np.round(df['Humidex5[days]'],0)\n",
    "df.to_csv('/work/remhi/ap21322/SDG/csv/humidex-5_era5-2km-italy_year_comune_torino_1991-2020.csv',index=False)"
   ]
  },
  {
   "cell_type": "code",
   "execution_count": 62,
   "id": "e5e43fa8",
   "metadata": {},
   "outputs": [],
   "source": [
    "#Shapefile\n",
    "mask_ds = xr.open_dataset('/work/remhi/ap21322/SDG/sh_mask_To/Mask_To_new.nc')\n",
    "msk_me = mask_ds['mask_torino_new']\n",
    "\n",
    "Humidex5_mean=classe_media2.mean(dim='time')\n",
    "clip_var = msk_me * Humidex5_mean\n",
    "ds=clip_var.to_dataset(name='Humidex5[d]')\n",
    "df=ds.to_dataframe().reset_index().drop(columns=[ 'rlon', 'rlat', 'height_2m']).dropna().reset_index(drop=True)   \n",
    "df['Humidex5[d]'] = np.round(df['Humidex5[d]'],0)\n",
    "from shapely.geometry import Point\n",
    "\n",
    "geometry = [Point(xy) for xy in zip(df['lon'], df['lat'])]\n",
    "df['geometry'] = geometry\n",
    "gdf = gpd.GeoDataFrame(df, geometry='geometry')\n",
    "gdf.to_file('/work/remhi/ap21322/SDG/shape/humidex/humidex-5_era5-2km-italy_year_comune_torino_1991-2020.shp', driver='ESRI Shapefile')"
   ]
  },
  {
   "cell_type": "code",
   "execution_count": 32,
   "id": "92ea27e4",
   "metadata": {},
   "outputs": [
    {
     "data": {
      "image/png": "[encoded data removed]",
      "text/plain": [
       "<Figure size 432x288 with 2 Axes>"
      ]
     },
     "metadata": {
      "needs_background": "light"
     },
     "output_type": "display_data"
    }
   ],
   "source": [
    "#Map \n",
    "#ds = xr.open_dataset('/work/remhi/ap21322/SDG/netcdf_indicator/Humidex5.nc')\n",
    "\n",
    "Humidex5 = classe_media3 \n",
    "lon = classe_media3.lon.values \n",
    "lat = classe_media3.lat.values \n",
    "\n",
    "\n",
    "cmap = plc.ListedColormap(colors)\n",
    "\n",
    "mask_ds = xr.open_dataset('/work/remhi/ap21322/SDG/sh_mask_To/Mask_To_new.nc')\n",
    "msk_me = mask_ds['mask_torino_new']\n",
    "\n",
    "\n",
    "clip_var = msk_me * Humidex5\n",
    "vmax = round(np.nanmax(clip_var),0) \n",
    "vmin = 0\n",
    "\n",
    "ticks = np.round(np.arange(vmin, vmax+2,2),1)\n",
    "ticks1 = np.append(ticks, vmax)\n",
    "ticks_label = np.round(np.arange(vmin, vmax+2, 2),1)\n",
    "ticks_label1 = np.append(ticks_label, vmax)\n",
    "colors = ss(np.linspace(0.6, 0.96, len(ticks)-1))\n",
    "\n",
    "cmap = plc.ListedColormap(colors)\n",
    "\n",
    "mp = Basemap(projection= 'merc', llcrnrlon= np.nanmin(lon) , llcrnrlat= np.nanmin(lat), urcrnrlon= np.nanmax(lon) , urcrnrlat= np.nanmax(lat) , resolution= 'i')\n",
    "mp.drawmapboundary()\n",
    "\n",
    "x,y = mp(lon,lat)\n",
    "mp.drawcoastlines(linewidth = 1)\n",
    "mp.drawmapboundary()\n",
    "mp.readshapefile('/work/remhi/ap21322/SDG/sh_mask_To/torino', 'torino', linewidth = 1) \n",
    "\n",
    "\n",
    "c_scheme = mp.pcolor(x,y,np.squeeze(clip_var[:,:]), cmap= cmap)\n",
    "\n",
    "cbar= mp.colorbar(c_scheme, location ='right',pad = '1%',ticks = ticks_label)\n",
    "# cbar.set_ticks(ticks)  # Definisci i ticks\n",
    "# cbar.set_ticklabels(ticks_label)\n",
    "plt.clim(vmin = vmin, vmax= vmax+1)\n",
    "cbar.set_label('days')\n",
    "plt.title('Humidex5')\n",
    "plt.savefig('/work/remhi/ap21322/SDG/mappe_indicatori/humidex-5_era5-2km-italy_year_comune_torino_1991-2020.png', dpi = 300)"
   ]
  },
  {
   "cell_type": "markdown",
   "id": "0bc0b3b9",
   "metadata": {},
   "source": [
    "## WSDI"
   ]
  },
  {
   "cell_type": "markdown",
   "id": "59d94de6",
   "metadata": {},
   "source": [
    "## Total number of days per period in which the daily maximum temperature is greater than the 90th percentile of the daily maximum temperature in intervals of at least 6 consecutive days.\n"
   ]
  },
  {
   "cell_type": "code",
   "execution_count": 63,
   "id": "1f07f62d",
   "metadata": {},
   "outputs": [],
   "source": [
    "##DATA\n",
    "#Loading data: Max. temperature and 90th percentile of Max. temperature\n",
    "data_temp= xr.open_dataset('/work/remhi/ap21322/SDG/box_2km/TMAX_2M_1991_2020_VHR-REA_IT_comune_torino.nc')\n",
    "tasmax=data_temp['TMAX_2M']\n",
    "tasmax.attrs[\"units\"] = \"K\"\n",
    "tasmax_per=xr.open_dataset('/work/remhi/ap21322/SDG/box_2km/90perc_tmax_2m_torino.nc')\n",
    "tasmax_per=tasmax_per['Tmax_90th']\n",
    "tasmax_per.attrs[\"units\"] = \"K\""
   ]
  },
  {
   "cell_type": "code",
   "execution_count": 64,
   "id": "e2529313",
   "metadata": {},
   "outputs": [],
   "source": [
    "#Evaluation\n",
    "#Evaluation of the indicator through the xclim library\n",
    "WSDI=xc.warm_spell_duration_index(tasmax, tasmax_per, window=6, freq='YS')\n",
    "WSDI_mean=WSDI.mean(dim='time')\n",
    "WSDI_mean=WSDI_mean.to_dataset(name='WSDI')\n",
    "WSDI=WSDI_mean.to_netcdf('/work/remhi/ap21322/SDG/netcdf_indicator/wsdi_era5-2km-italy_year_comune_torino_1991-2020.nc')"
   ]
  },
  {
   "cell_type": "code",
   "execution_count": 86,
   "id": "9636776d",
   "metadata": {},
   "outputs": [],
   "source": [
    "#CSV\n",
    "ds=WSDI.to_dataset(name='Wsdi[days]')\n",
    "Wsdi_mean=ds.mean(dim= ['rlat','rlon']) #comando per serie storiche\n",
    "Wsdi_std=ds.std(dim= ['rlat','rlon'])\n",
    "df=Wsdi_mean.to_dataframe().reset_index().drop(columns=[ 'height_2m', 'quantile']) \n",
    "df_std=Wsdi_std.to_dataframe().reset_index().drop(columns=['height_2m','quantile']).rename(columns= {'Wsdi[days]':'Std[days]'})\n",
    "df['Std[days]'] = np.round(df_std['Std[days]'],0)\n",
    "df['Wsdi[days]'] = np.round(df['Wsdi[days]'],0)\n",
    "df.to_csv('/work/remhi/ap21322/SDG/csv/wsdi_era5-2km-italy_year_comune_torino_1991-2020.csv',index=False)"
   ]
  },
  {
   "cell_type": "code",
   "execution_count": 65,
   "id": "23c7fa75",
   "metadata": {},
   "outputs": [],
   "source": [
    "#ShapeFile\n",
    "mask_ds = xr.open_dataset('/work/remhi/ap21322/SDG/sh_mask_To/Mask_To_new.nc')\n",
    "msk_me = mask_ds['mask_torino_new']\n",
    "\n",
    "WSDI_mean= WSDI.mean(dim='time')\n",
    "clip_var = msk_me * WSDI_mean\n",
    "ds=clip_var.to_dataset(name='Wsdi[d]')\n",
    "df=ds.to_dataframe().reset_index().drop(columns=[ 'rlon', 'rlat', 'height_2m', 'quantile']).dropna().reset_index(drop=True)\n",
    "df['Wsdi[d]'] = np.round(df['Wsdi[d]'],0)\n",
    "from shapely.geometry import Point\n",
    "\n",
    "geometry = [Point(xy) for xy in zip(df['lon'], df['lat'])]\n",
    "df['geometry'] = geometry\n",
    "gdf = gpd.GeoDataFrame(df, geometry='geometry')\n",
    "gdf.to_file('/work/remhi/ap21322/SDG/shape/wsdi/wsdi_era5-2km-italy_year_comune_torino_1991-2020.shp', driver='ESRI Shapefile')"
   ]
  },
  {
   "cell_type": "code",
   "execution_count": 37,
   "id": "d9333dc9",
   "metadata": {},
   "outputs": [
    {
     "data": {
      "image/png": "[encoded data removed]",
      "text/plain": [
       "<Figure size 432x288 with 2 Axes>"
      ]
     },
     "metadata": {
      "needs_background": "light"
     },
     "output_type": "display_data"
    }
   ],
   "source": [
    "#Map\n",
    "ds = xr.open_dataset('/work/remhi/ap21322/SDG/netcdf_indicator/wsdi_era5-2km-italy_year_comune_torino_1991-2020.nc')\n",
    "\n",
    "Wsdi = ds['WSDI']\n",
    "lon = ds.lon.values\n",
    "lat = ds.lat.values\n",
    "\n",
    "vmax = round(np.nanmax(Wsdi),0) \n",
    "vmin = 0\n",
    "\n",
    "ticks = np.round(np.arange(vmin, vmax+1,1),1)\n",
    "ticks1 = np.append(ticks, vmax)\n",
    "ticks_label = np.round(np.arange(vmin, vmax+1, 1),1)\n",
    "ticks_label1 = np.append(ticks_label, vmax)\n",
    "colors = ss(np.linspace(0.6, 0.97, len(ticks)-1))\n",
    "\n",
    "\n",
    "cmap = plc.ListedColormap(colors)\n",
    "\n",
    "mask_ds = xr.open_dataset('/work/remhi/ap21322/SDG/sh_mask_To/Mask_To_new.nc')\n",
    "msk_me = mask_ds['mask_torino_new']\n",
    "\n",
    "\n",
    "clip_var = msk_me * Wsdi\n",
    "mp = Basemap(projection= 'merc', llcrnrlon= np.nanmin(lon) , llcrnrlat= np.nanmin(lat), urcrnrlon= np.nanmax(lon) , urcrnrlat= np.nanmax(lat) , resolution= 'i')\n",
    "mp.drawmapboundary()\n",
    "\n",
    "x,y = mp(lon,lat)\n",
    "mp.drawcoastlines(linewidth = 1)\n",
    "mp.drawmapboundary()\n",
    "mp.readshapefile('/work/remhi/ap21322/SDG/sh_mask_To/torino', 'torino', linewidth = 1)\n",
    "\n",
    "c_scheme = mp.pcolor(x,y,np.squeeze(clip_var[:,:]), cmap= cmap)\n",
    "\n",
    "cbar= mp.colorbar(c_scheme, location ='right',pad = '1%',ticks = ticks_label)\n",
    "plt.clim(vmin = vmin, vmax= vmax)\n",
    "cbar.set_label('days')\n",
    "plt.title('WSDI')\n",
    "plt.savefig('/work/remhi/ap21322/SDG/mappe_indicatori/wsdi_era5-2km-italy_year_comune_torino_1991-2020.png', dpi = 300)"
   ]
  },
  {
   "cell_type": "markdown",
   "id": "64aac670",
   "metadata": {},
   "source": [
    "## Discomfort Index"
   ]
  },
  {
   "cell_type": "markdown",
   "id": "badd560a",
   "metadata": {},
   "source": [
    "## It is a physiological thermal stress indicator for people based on dry-bulb and wet-bulb temperature.\n"
   ]
  },
  {
   "cell_type": "code",
   "execution_count": 103,
   "id": "17646b17",
   "metadata": {},
   "outputs": [],
   "source": [
    "##DATA\n",
    "#Loading data: Max. temperature, humidity and pressure \n",
    "data_temp = xr.open_dataset('/work/remhi/ap21322/SDG/box_2km/TMAX_2M_1991_2020_VHR-REA_IT_comune_torino.nc')\n",
    "tasmax=data_temp['TMAX_2M'].values\n",
    "data_umidità_s = xr.open_dataset('/work/remhi/ap21322/SDG/box_2km/QV_2M_1991_2020_VHR-REA_IT_comune_torino.nc')\n",
    "q=data_umidità_s['QV_2M']\n",
    "data_press=xr.open_dataset('/work/remhi/ap21322/SDG/box_2km/PMSL_1991_2020_VHR-REA_IT_comune_torino.nc')\n",
    "p=data_press['PMSL']"
   ]
  },
  {
   "cell_type": "code",
   "execution_count": 104,
   "id": "f3e8e809",
   "metadata": {},
   "outputs": [],
   "source": [
    "#Components for the evaluation of the index\n",
    "T0 = 273.15\n",
    "w = q #the mixing ratio can be approximated with the specific humidity\n",
    "\n",
    "es = 611.0 * np.exp((17.67*(tasmax - T0)) / (tasmax - 29.65))\n",
    "\n",
    "w_s =0.622*(es / p)\n",
    "rh = np.round((w / w_s) * 100)\n",
    "\n",
    "rh = xr.where(rh > 100, 100, rh)\n",
    "rh.attrs[\"units\"] = \"%\""
   ]
  },
  {
   "cell_type": "code",
   "execution_count": 105,
   "id": "ad645fd2",
   "metadata": {},
   "outputs": [],
   "source": [
    "##Evaluation\n",
    "tasmax_deg=tasmax-273.15\n",
    "THI=tasmax_deg-(0.55 - 0.0055*rh) *(tasmax_deg-14.5)    #THI = Ta - (0.55 - 0.0055 * UR) (Ta - 14.5). Since it is not always possible to know the wet bulb temperature, the formula of the Thermohygrometric Index (THI) can be used\n",
    "condition= (THI>=29) & (THI<32) #Threshold indicating dangerous conditions\n",
    "classe=xr.where(condition,1,0)\n",
    "classe_media=classe.resample(time='1Y').sum(dim='time')\n",
    "classe_media1=classe_media.mean(dim='time')\n",
    "classe_media2=classe_media1.to_dataset(name='Di')\n",
    "Di_index=classe_media2.to_netcdf('/work/remhi/ap21322/SDG/netcdf_indicator/Di_era5-2km-italy_year_comune_torino_1991-2020.nc')"
   ]
  },
  {
   "cell_type": "code",
   "execution_count": 70,
   "id": "4e6e410b",
   "metadata": {},
   "outputs": [],
   "source": [
    "#CSV\n",
    "ds=classe_media.to_dataset(name='Di[days]')\n",
    "Di_mean=ds.mean(dim= ['rlat','rlon']) \n",
    "Di_std=ds.std(dim= ['rlat','rlon'])\n",
    "df=Di_mean.to_dataframe().reset_index().drop(columns=[ 'height_2m']) \n",
    "df_std=Di_std.to_dataframe().reset_index().drop(columns=['height_2m']).rename(columns= {'Di[days]':'Std[days]'})\n",
    "df['Std[days]'] = np.round(df_std['Std[days]'],0)\n",
    "df['Di[days]'] = np.round(df['Di[days]'],0)\n",
    "df.to_csv('/work/remhi/ap21322/SDG/csv/Di_era5-2km-italy_year_comune_torino_1991-2020.csv',index=False)"
   ]
  },
  {
   "cell_type": "code",
   "execution_count": 71,
   "id": "c2d1c808",
   "metadata": {},
   "outputs": [],
   "source": [
    "#ShapeFile\n",
    "mask_ds = xr.open_dataset('/work/remhi/ap21322/SDG/sh_mask_To/Mask_To_new.nc')\n",
    "msk_me = mask_ds['mask_torino_new']\n",
    "\n",
    "Thi_mean= classe_media.mean(dim='time')\n",
    "clip_var = msk_me * Thi_mean\n",
    "ds=clip_var.to_dataset(name='Di[d]')\n",
    "df=ds.to_dataframe().reset_index().drop(columns=[ 'rlon', 'rlat', 'height_2m']).dropna().reset_index(drop=True)\n",
    "df['Di[d]'] = np.round(df['Di[d]'],0)\n",
    "from shapely.geometry import Point\n",
    "\n",
    "geometry = [Point(xy) for xy in zip(df['lon'], df['lat'])]\n",
    "df['geometry'] = geometry\n",
    "gdf = gpd.GeoDataFrame(df, geometry='geometry')\n",
    "gdf.to_file('/work/remhi/ap21322/SDG/shape/discomfort_index/Di_era5-2km-italy_year_comune_torino_1991-2020.shp', driver='ESRI Shapefile')"
   ]
  },
  {
   "cell_type": "code",
   "execution_count": 106,
   "id": "e0d60000",
   "metadata": {},
   "outputs": [
    {
     "data": {
      "image/png": "[encoded data removed]",
      "text/plain": [
       "<Figure size 432x288 with 2 Axes>"
      ]
     },
     "metadata": {
      "needs_background": "light"
     },
     "output_type": "display_data"
    }
   ],
   "source": [
    "#Map\n",
    "#ds = xr.open_dataset('/work/remhi/ap21322/SDG/netcdf_indicator/THI_index.nc')\n",
    "\n",
    "THI = classe_media1\n",
    "lon = classe_media1.lon.values\n",
    "lat = classe_media1.lat.values\n",
    "\n",
    "vmax =  round(np.nanmax(THI),0)\n",
    "vmin = 0\n",
    "\n",
    "ticks = np.round(np.arange(vmin, vmax+1,1),1)\n",
    "ticks1 = np.append(ticks, vmax)\n",
    "ticks_label = np.round(np.arange(vmin, vmax+1,1),1)\n",
    "ticks_label1 = np.append(ticks_label, vmax)\n",
    "colors = ss(np.linspace(0.6, 0.97, len(ticks)-1))\n",
    "\n",
    "\n",
    "cmap = plc.ListedColormap(colors)\n",
    "\n",
    "mask_ds = xr.open_dataset('/work/remhi/ap21322/SDG/sh_mask_To/Mask_To_new.nc')\n",
    "msk_me = mask_ds['mask_torino_new']\n",
    "\n",
    "\n",
    "clip_var = msk_me * THI\n",
    "mp = Basemap(projection= 'merc', llcrnrlon= np.nanmin(lon) , llcrnrlat= np.nanmin(lat), urcrnrlon= np.nanmax(lon) , urcrnrlat= np.nanmax(lat) , resolution= 'i')\n",
    "mp.drawmapboundary()\n",
    "\n",
    "x,y = mp(lon,lat)\n",
    "mp.drawcoastlines(linewidth = 1)\n",
    "mp.drawmapboundary()\n",
    "mp.readshapefile('/work/remhi/ap21322/SDG/sh_mask_To/torino', 'torino', linewidth = 1)\n",
    "\n",
    "c_scheme = mp.pcolor(x,y,np.squeeze(clip_var[:,:]), cmap= cmap)\n",
    "\n",
    "cbar= mp.colorbar(c_scheme, location ='right',pad = '1%',ticks = ticks_label)\n",
    "plt.clim(vmin = vmin, vmax= vmax)\n",
    "cbar.set_label('days')\n",
    "plt.title('Discomfort Index')\n",
    "plt.savefig('/work/remhi/ap21322/SDG/mappe_indicatori/Di_era5-2km-italy_year_comune_torino_1991-2020.png', dpi = 300)"
   ]
  },
  {
   "cell_type": "markdown",
   "id": "9158b044",
   "metadata": {},
   "source": [
    "## Apparent Temperature"
   ]
  },
  {
   "cell_type": "markdown",
   "id": "ca098bea",
   "metadata": {},
   "source": [
    "## It represents the temperature perceived by human beings, resulting from the combined effect of air temperature, relative humidity."
   ]
  },
  {
   "cell_type": "code",
   "execution_count": 159,
   "id": "3942e141",
   "metadata": {},
   "outputs": [],
   "source": [
    "##DATA\n",
    "#Loading data: Temperature and Dew point temperature \n",
    "data_temp=xr.open_dataset('/work/remhi/ap21322/SDG/box_2km/T_2M_1991_2020_VHR-REA_IT_comune_torino.nc')\n",
    "t=data_temp['T_2M']\n",
    "data_tempdp=xr.open_dataset('/work/remhi/ap21322/SDG/box_2km/TD_2M_1991_2020_VHR-REA_IT_comune_torino.nc')\n",
    "tdps=data_tempdp['TD_2M']"
   ]
  },
  {
   "cell_type": "code",
   "execution_count": 160,
   "id": "72a38099",
   "metadata": {},
   "outputs": [],
   "source": [
    "#Evaluation\n",
    "temp_deg=t-273.15\n",
    "temp_deg[\"units\"] = \"°C\"\n",
    "tdps_deg=tdps-273.15\n",
    "tdps_deg.attrs[\"units\"] = \"°C\"\n",
    "TApp= -2.653 + 0.994 * temp_deg + 0.0153 * (tdps_deg)**2;  #Tapp = −2.653 + 0.994 × Ta + 0 0153 × Td2"
   ]
  },
  {
   "cell_type": "code",
   "execution_count": 161,
   "id": "04a174c5",
   "metadata": {},
   "outputs": [],
   "source": [
    "#Evaluation\n",
    "condition= (TApp>=32) & (TApp<40)  #Threshold indicating conditions of extreme caution\n",
    "classe=xr.where(condition,1,0)\n",
    "classe_new=classe.resample(time='1Y').sum(dim='time')\n",
    "classe_media=classe_new.mean(dim='time')\n",
    "classe_media1=classe_media.to_dataset(name='TApp')\n",
    "Apparent_Temperature=classe_media1.to_netcdf('/work/remhi/ap21322/SDG/netcdf_indicator/apparent_temperature_era5-2km-italy_year_comune_torino_1991-2020.nc')"
   ]
  },
  {
   "cell_type": "code",
   "execution_count": 94,
   "id": "5b9c1443",
   "metadata": {},
   "outputs": [],
   "source": [
    "#CSV\n",
    "ds=classe_new.to_dataset(name='TApp[days]')\n",
    "TApp_mean=ds.mean(dim= ['rlat','rlon']) \n",
    "TApp_std=ds.std(dim= ['rlat','rlon'])\n",
    "df=TApp_mean.to_dataframe().reset_index().drop(columns=[ 'height_2m', 'units'])\n",
    "df_std=TApp_std.to_dataframe().reset_index().drop(columns=['height_2m','units']).rename(columns= {'TApp[days]':'Std[days]'})\n",
    "df['Std[days]'] = np.round(df_std['Std[days]'],0)\n",
    "df['TApp[days]'] = np.round(df['TApp[days]'],0)\n",
    "df.to_csv('/work/remhi/ap21322/SDG/csv/apparent_temperature_era5-2km-italy_year_comune_torino_1991-2020.csv',index=False)"
   ]
  },
  {
   "cell_type": "code",
   "execution_count": 75,
   "id": "d6f242f6",
   "metadata": {},
   "outputs": [],
   "source": [
    "#ShapeFile\n",
    "mask_ds = xr.open_dataset('/work/remhi/ap21322/SDG/sh_mask_To/Mask_To_new.nc')\n",
    "msk_me = mask_ds['mask_torino_new']\n",
    "\n",
    "TApp_mean= classe_new.mean(dim='time')\n",
    "clip_var = msk_me * TApp_mean\n",
    "ds=clip_var.to_dataset(name='TApp[d]')\n",
    "df=ds.to_dataframe().reset_index().drop(columns=[ 'rlon', 'rlat', 'height_2m', 'units']).dropna().reset_index(drop=True)\n",
    "df['TApp[d]'] = np.round(df['TApp[d]'],0)\n",
    "from shapely.geometry import Point\n",
    "\n",
    "geometry = [Point(xy) for xy in zip(df['lon'], df['lat'])]\n",
    "df['geometry'] = geometry\n",
    "gdf = gpd.GeoDataFrame(df, geometry='geometry')\n",
    "gdf.to_file('/work/remhi/ap21322/SDG/shape/Apparent _temperature/apparent_temperature_era5-2km-italy_year_comune_torino_1991-2020.shp', driver='ESRI Shapefile')"
   ]
  },
  {
   "cell_type": "code",
   "execution_count": 51,
   "id": "f03b1f41",
   "metadata": {},
   "outputs": [
    {
     "data": {
      "image/png": "[encoded data removed]",
      "text/plain": [
       "<Figure size 432x288 with 2 Axes>"
      ]
     },
     "metadata": {
      "needs_background": "light"
     },
     "output_type": "display_data"
    }
   ],
   "source": [
    "#Map\n",
    "AT = classe_media \n",
    "lon = classe_media.lon.values\n",
    "lat = classe_media.lat.values\n",
    "\n",
    "vmax = round(np.nanmax(AT),0)  \n",
    "vmin = 0\n",
    "\n",
    "ticks = np.round(np.arange(vmin, vmax+1,1),1)\n",
    "ticks1 = np.append(ticks, vmax)\n",
    "ticks_label = np.round(np.arange(vmin, vmax+1,1),1)\n",
    "ticks_label1 = np.append(ticks_label, vmax)\n",
    "colors = ss(np.linspace(0.6, 0.97, len(ticks)-1))\n",
    "\n",
    "\n",
    "cmap = plc.ListedColormap(colors)\n",
    "\n",
    "mask_ds = xr.open_dataset('/work/remhi/ap21322/SDG/sh_mask_To/Mask_To_new.nc')\n",
    "msk_me = mask_ds['mask_torino_new']\n",
    "\n",
    "\n",
    "clip_var = msk_me * AT\n",
    "mp = Basemap(projection= 'merc', llcrnrlon= np.nanmin(lon) , llcrnrlat= np.nanmin(lat), urcrnrlon= np.nanmax(lon) , urcrnrlat= np.nanmax(lat) , resolution= 'i')\n",
    "mp.drawmapboundary()\n",
    "\n",
    "x,y = mp(lon,lat)\n",
    "mp.drawcoastlines(linewidth = 1)\n",
    "mp.drawmapboundary()\n",
    "mp.readshapefile('/work/remhi/ap21322/SDG/sh_mask_To/torino', 'torino', linewidth = 1)\n",
    "\n",
    "c_scheme = mp.pcolor(x,y,np.squeeze(clip_var[:,:]), cmap= cmap)\n",
    "\n",
    "cbar= mp.colorbar(c_scheme, location ='right',pad = '1%',ticks = ticks_label)\n",
    "plt.clim(vmin = vmin, vmax= vmax)\n",
    "cbar.set_label('days')\n",
    "plt.title('Apparent Temperature')\n",
    "plt.savefig('/work/remhi/ap21322/SDG/mappe_indicatori/apparent_temperature_era5-2km-italy_year_comune_torino_1991-2020.png', dpi = 300)"
   ]
  },
  {
   "cell_type": "markdown",
   "id": "3fba4765",
   "metadata": {},
   "source": [
    "## Warm days"
   ]
  },
  {
   "cell_type": "markdown",
   "id": "1e159060",
   "metadata": {},
   "source": [
    "## Number of days with daily maximum temperature greater than the 90th percentile of daily maximum temperature"
   ]
  },
  {
   "cell_type": "code",
   "execution_count": 129,
   "id": "7b3ef99a",
   "metadata": {},
   "outputs": [],
   "source": [
    "##DATA\n",
    "#Loading data: Max. temperature and 90th percentile of Max. temperature\n",
    "data_temp= xr.open_dataset('/work/remhi/ap21322/SDG/box_2km/TMAX_2M_1991_2020_VHR-REA_IT_comune_torino.nc') \n",
    "tasmax=data_temp['TMAX_2M']\n",
    "tasmax.attrs[\"units\"] = \"°K\"\n",
    "tasmax_per=xr.open_dataset('/work/remhi/ap21322/SDG/box_2km/90perc_tmax_2m_torino.nc')\n",
    "tasmax_per=tasmax_per['Tmax_90th']\n",
    "tasmax_per.attrs[\"units\"] = \"°K\""
   ]
  },
  {
   "cell_type": "code",
   "execution_count": 130,
   "id": "2cd97038",
   "metadata": {},
   "outputs": [],
   "source": [
    "##Evaluation\n",
    "#Evaluation of the indicator through the xclim library\n",
    "Warm_days=xc.tx90p(tasmax,tasmax_per, freq='YS', bootstrap=False)\n",
    "Warm_days_mean=Warm_days.mean(dim='time')\n",
    "Warm_days_mean=Warm_days_mean.to_dataset(name='Wd')\n",
    "Warm_days=Warm_days_mean.to_netcdf('/work/remhi/ap21322/SDG/netcdf_indicator/warm_days_era5-2km-italy_year_comune_torino_1991-2020.nc')"
   ]
  },
  {
   "cell_type": "code",
   "execution_count": 132,
   "id": "bcdd1d67",
   "metadata": {},
   "outputs": [],
   "source": [
    "#CSV\n",
    "ds=Warm_days.to_dataset(name='Wd[days]')\n",
    "tx90p_mean=ds.mean(dim= ['rlat','rlon']) \n",
    "tx90p_std=ds.std(dim= ['rlat','rlon'])\n",
    "df=tx90p_mean.to_dataframe().reset_index().drop(columns=[ 'height_2m', 'quantile'])\n",
    "df_std=tx90p_std.to_dataframe().reset_index().drop(columns=['height_2m','quantile']).rename(columns= {'Wd[days]':'Std[days]'})\n",
    "df['Std[days]'] = np.round(df_std['Std[days]'],0)\n",
    "df['Wd[days]'] = np.round(df['Wd[days]'],0)\n",
    "df.to_csv('/work/remhi/ap21322/SDG/csv/warm_days_era5-2km-italy_year_comune_torino_1991-2020.csv',index=False)"
   ]
  },
  {
   "cell_type": "code",
   "execution_count": 82,
   "id": "5a01039c",
   "metadata": {},
   "outputs": [],
   "source": [
    "#ShapeFile\n",
    "mask_ds = xr.open_dataset('/work/remhi/ap21322/SDG/sh_mask_To/Mask_To_new.nc')\n",
    "msk_me = mask_ds['mask_torino_new']\n",
    "\n",
    "Warm_days_mean=Warm_days.mean(dim='time')\n",
    "clip_var = msk_me * Warm_days_mean\n",
    "ds=clip_var.to_dataset(name='Wd[d]')\n",
    "df=ds.to_dataframe().reset_index().drop(columns=[ 'rlon', 'rlat', 'height_2m', 'quantile']).dropna().reset_index(drop=True)\n",
    "df['Wd[d]'] = np.round(df['Wd[d]'],0)\n",
    "from shapely.geometry import Point\n",
    "\n",
    "geometry = [Point(xy) for xy in zip(df['lon'], df['lat'])]\n",
    "df['geometry'] = geometry\n",
    "gdf = gpd.GeoDataFrame(df, geometry='geometry')\n",
    "gdf.to_file('/work/remhi/ap21322/SDG/shape/Warm_days/warm_days_era5-2km-italy_year_comune_torino_1991-2020.shp', driver='ESRI Shapefile')"
   ]
  },
  {
   "cell_type": "code",
   "execution_count": 115,
   "id": "f701ff78",
   "metadata": {},
   "outputs": [
    {
     "data": {
      "image/png": "[encoded data removed]",
      "text/plain": [
       "<Figure size 432x288 with 2 Axes>"
      ]
     },
     "metadata": {
      "needs_background": "light"
     },
     "output_type": "display_data"
    }
   ],
   "source": [
    "#Map\n",
    "ds = xr.open_dataset('/work/remhi/ap21322/SDG/netcdf_indicator/warm_days_era5-2km-italy_year_comune_torino_1991-2020.nc')\n",
    "\n",
    "Wd = np.round((ds['Wd']),0)\n",
    "lon = ds.lon.values\n",
    "lat = ds.lat.values\n",
    "\n",
    "vmax = round(np.nanmax(Wd),0)\n",
    "vmin = 0\n",
    "\n",
    "ticks = np.round(np.arange(vmin, vmax+2,2),1)\n",
    "ticks1 = np.append(ticks, vmax)\n",
    "ticks_label = np.round(np.arange(vmin, vmax+2, 2),1)\n",
    "ticks_label1 = np.append(ticks_label, vmax)\n",
    "colors = ss(np.linspace(0.6, 0.97, len(ticks)))\n",
    "\n",
    "\n",
    "cmap = plc.ListedColormap(colors)\n",
    "\n",
    "mask_ds = xr.open_dataset('/work/remhi/ap21322/SDG/sh_mask_To/Mask_To_new.nc')\n",
    "msk_me = mask_ds['mask_torino_new']\n",
    "\n",
    "\n",
    "clip_var = msk_me * Wd\n",
    "mp = Basemap(projection= 'merc', llcrnrlon= np.nanmin(lon) , llcrnrlat= np.nanmin(lat), urcrnrlon= np.nanmax(lon) , urcrnrlat= np.nanmax(lat) , resolution= 'i')\n",
    "mp.drawmapboundary()\n",
    "\n",
    "x,y = mp(lon,lat)\n",
    "mp.drawcoastlines(linewidth = 1)\n",
    "mp.drawmapboundary()\n",
    "mp.readshapefile('/work/remhi/ap21322/SDG/sh_mask_To/torino', 'torino', linewidth = 1)\n",
    "\n",
    "c_scheme = mp.pcolor(x,y,np.squeeze(clip_var[:,:]), cmap= cmap)\n",
    "\n",
    "cbar= mp.colorbar(c_scheme, location ='right',pad = '1%',ticks = ticks_label)\n",
    "plt.clim(vmin = vmin, vmax= vmax+1)\n",
    "cbar.set_label('days')\n",
    "plt.title('Warm days')\n",
    "plt.savefig('/work/remhi/ap21322/SDG/mappe_indicatori/warm_days_era5-2km-italy_year_comune_torino_1991-2020.png', dpi = 300)"
   ]
  },
  {
   "cell_type": "markdown",
   "id": "cf7dd1a4",
   "metadata": {},
   "source": [
    "## Warm Wet Days"
   ]
  },
  {
   "cell_type": "markdown",
   "id": "ede2a0dc",
   "metadata": {},
   "source": [
    "## Number of days with daily mean temperature greater than 75th percentile* of daily mean temperature and with daily precipitation greater than 75th percentile** of daily precipitation."
   ]
  },
  {
   "cell_type": "code",
   "execution_count": 141,
   "id": "228f571e",
   "metadata": {},
   "outputs": [],
   "source": [
    "##DATA temp\n",
    "#Loading data: temperature and 75th percentile of temperature\n",
    "data_temp = xr.open_dataset('/work/remhi/ap21322/SDG/box_2km/T_2M_1991_2020_VHR-REA_IT_comune_torino.nc')\n",
    "tas=data_temp['T_2M']\n",
    "tas.attrs[\"units\"] = \"K\"\n",
    "tas_per=percentile_doy(tas, per=75).sel(percentiles=75)\n",
    "tas_per.attrs[\"units\"] = \"K\""
   ]
  },
  {
   "cell_type": "code",
   "execution_count": 142,
   "id": "7e44c157",
   "metadata": {},
   "outputs": [],
   "source": [
    "##DATA Prec\n",
    "#Loading data: precipitation and 75th percentile of precipitation\n",
    "data_prec = xr.open_dataset('/work/remhi/ap21322/SDG/box_2km/TOT_PREC_1991_2020_VHR-REA_IT_comune_torino.nc')\n",
    "pr=data_prec['TOT_PREC']\n",
    "pr.attrs[\"units\"] = \"mm/day\"\n",
    "pr_per=percentile_doy(pr, per=75).sel(percentiles=75)\n",
    "pr_per.attrs[\"units\"] = \"mm/day\""
   ]
  },
  {
   "cell_type": "code",
   "execution_count": 143,
   "id": "3f1be7c6",
   "metadata": {},
   "outputs": [],
   "source": [
    "#Evaluation for Temp\n",
    "tas_per = convert_units_to(tas_per, tas)\n",
    "thresh = resample_doy(tas_per, tas)\n",
    "tg75 = tas >= thresh\n",
    "tg75=tg75.values"
   ]
  },
  {
   "cell_type": "code",
   "execution_count": 144,
   "id": "6a8835e3",
   "metadata": {},
   "outputs": [],
   "source": [
    "#Evaluation for Prec\n",
    "pr_per = convert_units_to(pr_per, pr, context=\"hydro\")\n",
    "thresh = resample_doy(pr_per, pr)\n",
    "pr75 = pr >= thresh"
   ]
  },
  {
   "cell_type": "code",
   "execution_count": 145,
   "id": "18dcb3b4",
   "metadata": {},
   "outputs": [],
   "source": [
    "#Evaluation\n",
    "WW= (tg75==True) & (pr75==True)\n",
    "classe_media1= xr.where(WW,1,0)\n",
    "classe_media2=classe_media1.resample(time='1Y').sum(dim='time')\n",
    "classe_media3=classe_media2.mean(dim='time')\n",
    "classe_media3=classe_media3.to_dataset(name='WW')\n",
    "warm_and_wet=classe_media3.to_netcdf('/work/remhi/ap21322/SDG/netcdf_indicator/ww_era5-2km-italy_year_comune_torino_1991-2020.nc')"
   ]
  },
  {
   "cell_type": "code",
   "execution_count": 103,
   "id": "2cae7149",
   "metadata": {},
   "outputs": [],
   "source": [
    "#CSV\n",
    "ds=classe_media2.to_dataset(name='WW[days]')\n",
    "Ww_mean=ds.mean(dim= ['rlat','rlon']) \n",
    "Ww_std=ds.std(dim= ['rlat','rlon'])\n",
    "df=Ww_mean.to_dataframe().reset_index().drop(columns=[ 'percentiles'])\n",
    "df_std=Ww_std.to_dataframe().reset_index().drop(columns=['percentiles']).rename(columns= {'WW[days]':'Std[days]'})\n",
    "df['Std[days]'] = np.round(df_std['Std[days]'],0)\n",
    "df['WW[days]'] = np.round(df['WW[days]'],0)\n",
    "df.to_csv('/work/remhi/ap21322/SDG/csv/ww_era5-2km-italy_year_comune_torino_1991-2020.csv',index=False)"
   ]
  },
  {
   "cell_type": "code",
   "execution_count": null,
   "id": "121a7c56",
   "metadata": {},
   "outputs": [],
   "source": [
    "#ShapeFile\n",
    "mask_ds = xr.open_dataset('/work/remhi/ap21322/SDG/sh_mask_To/Mask_To_new.nc')\n",
    "msk_me = mask_ds['mask_torino_new']\n",
    "\n",
    "Ww_mean= classe_media2.mean(dim='time')\n",
    "clip_var = msk_me * Ww_mean\n",
    "ds=clip_var.to_dataset(name='WW[d]')\n",
    "df=ds.to_dataframe().reset_index().drop(columns=[ 'rlon', 'rlat', 'percentiles']).dropna().reset_index(drop=True)\n",
    "df['WW[d]'] = np.round(df['WW[d]'],0)\n",
    "from shapely.geometry import Point\n",
    "\n",
    "geometry = [Point(xy) for xy in zip(df['lon'], df['lat'])]\n",
    "df['geometry'] = geometry\n",
    "gdf = gpd.GeoDataFrame(df, geometry='geometry')\n",
    "gdf.to_file('/work/remhi/ap21322/SDG/shape/Warm_wet_days/ww_era5-2km-italy_year_comune_torino_1991-2020.shp', driver='ESRI Shapefile')"
   ]
  },
  {
   "cell_type": "code",
   "execution_count": 290,
   "id": "b247fb92",
   "metadata": {},
   "outputs": [
    {
     "data": {
      "text/plain": [
       "Text(0.5, 1.0, 'Warm Wet days')"
      ]
     },
     "execution_count": 290,
     "metadata": {},
     "output_type": "execute_result"
    },
    {
     "data": {
      "image/png": "[encoded data removed]",
      "text/plain": [
       "<Figure size 432x288 with 2 Axes>"
      ]
     },
     "metadata": {
      "needs_background": "light"
     },
     "output_type": "display_data"
    }
   ],
   "source": [
    "#Map \n",
    "#ds = xr.open_dataset('/work/remhi/ap21322/SDG/netcdf_indicator/Warm_and_wet.nc')\n",
    "\n",
    "WW = classe_media3 \n",
    "lon = classe_media3.lon.values   \n",
    "lat = classe_media3.lat.values   \n",
    "\n",
    "vmax = round(np.nanmax(WW),0)  \n",
    "vmin = 0\n",
    "\n",
    "ticks = np.round(np.arange(vmin, vmax+2,1),1)\n",
    "ticks1 = np.append(ticks, vmax)\n",
    "ticks_label = np.round(np.arange(vmin, vmax+2, 1),1)\n",
    "ticks_label1 = np.append(ticks_label, vmax)\n",
    "colors = ss(np.linspace(0.6, 0.97, len(ticks)-1))\n",
    "\n",
    "\n",
    "cmap = plc.ListedColormap(colors)\n",
    "\n",
    "mask_ds = xr.open_dataset('/work/remhi/ap21322/SDG/sh_mask_To/Mask_To_new.nc')\n",
    "msk_me = mask_ds['mask_torino_new']\n",
    "\n",
    "\n",
    "clip_var = msk_me * WW\n",
    "mp = Basemap(projection= 'merc', llcrnrlon= np.nanmin(lon) , llcrnrlat= np.nanmin(lat), urcrnrlon= np.nanmax(lon) , urcrnrlat= np.nanmax(lat) , resolution= 'i')\n",
    "mp.drawmapboundary()\n",
    "\n",
    "x,y = mp(lon,lat)\n",
    "mp.drawcoastlines(linewidth = 1)\n",
    "mp.drawmapboundary()\n",
    "mp.readshapefile('/work/remhi/ap21322/SDG/sh_mask_To/torino', 'torino', linewidth = 1)\n",
    "\n",
    "c_scheme = mp.pcolor(x,y,np.squeeze(clip_var[:,:]), cmap= cmap)\n",
    "\n",
    "cbar= mp.colorbar(c_scheme, location ='right',pad = '1%',ticks = ticks_label)\n",
    "plt.clim(vmin = vmin, vmax= vmax+1)\n",
    "cbar.set_label('days')\n",
    "plt.title('Warm Wet days')\n",
    "plt.savefig('/work/remhi/ap21322/SDG/mappe_indicatori/ww_era5-2km-italy_year_comune_torino_1991-2020.png', dpi = 300)"
   ]
  },
  {
   "cell_type": "markdown",
   "id": "110f47c9",
   "metadata": {},
   "source": [
    "## Warm Dry Days"
   ]
  },
  {
   "cell_type": "markdown",
   "id": "c9f8702c",
   "metadata": {},
   "source": [
    "## Number of days with daily mean temperature greater than 75th percentile** of daily mean temperature and with daily precipitation less than 25th percentile** of daily precipitation."
   ]
  },
  {
   "cell_type": "code",
   "execution_count": 147,
   "id": "7b7d9c88",
   "metadata": {},
   "outputs": [],
   "source": [
    "##DATA Temp\n",
    "#Loading data: temperature and 75th percentile of temperature\n",
    "data_temp = xr.open_dataset('/work/remhi/ap21322/SDG/box_2km/T_2M_1991_2020_VHR-REA_IT_comune_torino.nc')\n",
    "tas=data_temp['T_2M']\n",
    "tas.attrs[\"units\"] = \"K\"\n",
    "tas_per=percentile_doy(tas, per=75).sel(percentiles=75)\n",
    "tas_per.attrs[\"units\"] = \"K\""
   ]
  },
  {
   "cell_type": "code",
   "execution_count": 148,
   "id": "4e653ff1",
   "metadata": {},
   "outputs": [],
   "source": [
    "##DATA Prec\n",
    "#Loading data: precipitation and 25th percentile of precipitation\n",
    "data_prec = xr.open_dataset('/work/remhi/ap21322/SDG/box_2km/TOT_PREC_1991_2020_VHR-REA_IT_comune_torino.nc')\n",
    "pr=data_prec['TOT_PREC']\n",
    "pr.attrs[\"units\"] = \"mm/day\"\n",
    "pr_per=percentile_doy(pr, per=25).sel(percentiles=25)\n",
    "pr_per.attrs[\"units\"] = \"mm/day\""
   ]
  },
  {
   "cell_type": "code",
   "execution_count": 149,
   "id": "d7fb953b",
   "metadata": {},
   "outputs": [],
   "source": [
    "#Evaluation for Temp\n",
    "tas_per = convert_units_to(tas_per, tas)\n",
    "thresh = resample_doy(tas_per, tas)\n",
    "tg75 = tas >= thresh\n",
    "#tg75=tg75"
   ]
  },
  {
   "cell_type": "code",
   "execution_count": 150,
   "id": "23ad03bc",
   "metadata": {},
   "outputs": [],
   "source": [
    "#Evaluation for Prec\n",
    "pr_per = convert_units_to(pr_per, pr, context=\"hydro\")\n",
    "thresh1 = resample_doy(pr_per, pr)\n",
    "pr25 = pr <= thresh1\n",
    "pr25=pr25.values"
   ]
  },
  {
   "cell_type": "code",
   "execution_count": 151,
   "id": "f7137bbb",
   "metadata": {},
   "outputs": [],
   "source": [
    "#Evaluation\n",
    "WD= (tg75==True) & (pr25==True)\n",
    "classe_media1= xr.where(WD,1,0)\n",
    "classe_media2=classe_media1.resample(time='1Y').sum(dim='time')\n",
    "classe_media3=classe_media2.mean(dim='time')\n",
    "classe_media3=classe_media3.to_dataset(name='WD')\n",
    "warm_and_wet=classe_media3.to_netcdf('/work/remhi/ap21322/SDG/netcdf_indicator/wd_era5-2km-italy_year_comune_torino_1991-2020.nc')"
   ]
  },
  {
   "cell_type": "code",
   "execution_count": 109,
   "id": "d6aaa67e",
   "metadata": {},
   "outputs": [],
   "source": [
    "#CSV\n",
    "ds=classe_media2.to_dataset(name='WD[days]')\n",
    "Wd_mean=ds.mean(dim= ['rlat','rlon']) \n",
    "Wd_std=ds.std(dim= ['rlat','rlon'])\n",
    "df=Wd_mean.to_dataframe().reset_index().drop(columns=[ 'percentiles', 'height_2m'])\n",
    "df_std=Wd_std.to_dataframe().reset_index().drop(columns=['percentiles']).rename(columns= {'WD[days]':'Std[days]'})\n",
    "df['Std[days]'] = np.round(df_std['Std[days]'],0)\n",
    "df['WD[days]'] = np.round(df['WD[days]'],0)\n",
    "df.to_csv('/work/remhi/ap21322/SDG/csv/wd_era5-2km-italy_year_comune_torino_1991-2020.csv',index=False)"
   ]
  },
  {
   "cell_type": "code",
   "execution_count": 152,
   "id": "ac7edaf7",
   "metadata": {},
   "outputs": [],
   "source": [
    "#ShapeFile\n",
    "mask_ds = xr.open_dataset('/work/remhi/ap21322/SDG/sh_mask_To/Mask_To_new.nc')\n",
    "msk_me = mask_ds['mask_torino_new']\n",
    "\n",
    "Wd_mean= classe_media2.mean(dim='time')\n",
    "clip_var = msk_me * Wd_mean\n",
    "ds=clip_var.to_dataset(name='WD[d]')\n",
    "df=ds.to_dataframe().reset_index().drop(columns=[ 'rlon', 'rlat', 'percentiles', 'height_2m']).dropna().reset_index(drop=True)\n",
    "df['WD[d]'] = np.round(df['WD[d]'],0)\n",
    "from shapely.geometry import Point\n",
    "\n",
    "geometry = [Point(xy) for xy in zip(df['lon'], df['lat'])]\n",
    "df['geometry'] = geometry\n",
    "gdf = gpd.GeoDataFrame(df, geometry='geometry')\n",
    "gdf.to_file('/work/remhi/ap21322/SDG/shape/Warm_dry_days/wd_era5-2km-italy_year_comune_torino_1991-2020.shp', driver='ESRI Shapefile')"
   ]
  },
  {
   "cell_type": "code",
   "execution_count": 268,
   "id": "48d407b1",
   "metadata": {},
   "outputs": [
    {
     "data": {
      "image/png": "[encoded data removed]",
      "text/plain": [
       "<Figure size 432x288 with 2 Axes>"
      ]
     },
     "metadata": {
      "needs_background": "light"
     },
     "output_type": "display_data"
    }
   ],
   "source": [
    "#Map\n",
    "#ds = xr.open_dataset('/work/remhi/ap21322/SDG/netcdf_indicator/Warm_and_wet.nc')\n",
    "\n",
    "WD = classe_media3 \n",
    "lon = classe_media3.lon.values   \n",
    "lat = classe_media3.lat.values   \n",
    "\n",
    "vmax = round(np.nanmax(WD),0)\n",
    "vmin = 0\n",
    "\n",
    "ticks = np.round(np.arange(vmin, vmax+4,4),1)\n",
    "ticks1 = np.append(ticks, vmax)\n",
    "ticks_label = np.round(np.arange(vmin, vmax+4, 4),1)\n",
    "ticks_label1 = np.append(ticks_label, vmax)\n",
    "colors = ss(np.linspace(0.6, 0.97, len(ticks)-1))\n",
    "\n",
    "\n",
    "cmap = plc.ListedColormap(colors)\n",
    "\n",
    "mask_ds = xr.open_dataset('/work/remhi/ap21322/SDG/sh_mask_To/Mask_To_new.nc')\n",
    "msk_me = mask_ds['mask_torino_new']\n",
    "\n",
    "\n",
    "clip_var = msk_me * WD\n",
    "mp = Basemap(projection= 'merc', llcrnrlon= np.nanmin(lon) , llcrnrlat= np.nanmin(lat), urcrnrlon= np.nanmax(lon) , urcrnrlat= np.nanmax(lat) , resolution= 'i')\n",
    "mp.drawmapboundary()\n",
    "\n",
    "x,y = mp(lon,lat)\n",
    "mp.drawcoastlines(linewidth = 1)\n",
    "mp.drawmapboundary()\n",
    "mp.readshapefile('/work/remhi/ap21322/SDG/sh_mask_To/torino', 'torino', linewidth = 1)\n",
    "\n",
    "c_scheme = mp.pcolor(x,y,np.squeeze(clip_var[:,:]), cmap= cmap)\n",
    "\n",
    "cbar= mp.colorbar(c_scheme, location ='right',pad = '1%',ticks = ticks_label)\n",
    "plt.clim(vmin = vmin, vmax= vmax+3)\n",
    "cbar.set_label('days')\n",
    "plt.title('Warm Dry days')\n",
    "plt.savefig('/work/remhi/ap21322/SDG/mappe_indicatori/wd_era5-2km-italy_year_comune_torino_1991-2020.png', dpi = 300)"
   ]
  },
  {
   "cell_type": "markdown",
   "id": "ccb160e3",
   "metadata": {},
   "source": [
    "### Consecutive Wet Days"
   ]
  },
  {
   "cell_type": "markdown",
   "id": "8b8e1f24",
   "metadata": {},
   "source": [
    "## Largest number of consecutive days with daily precipitation greater than or equal to 1 mm."
   ]
  },
  {
   "cell_type": "code",
   "execution_count": 156,
   "id": "4e43452e",
   "metadata": {},
   "outputs": [],
   "source": [
    "##DATA Prec\n",
    "#Loading data: Precipitation\n",
    "data_prec = xr.open_dataset('/work/remhi/ap21322/SDG/box_2km/TOT_PREC_1991_2020_VHR-REA_IT_comune_torino.nc')\n",
    "pr=data_prec['TOT_PREC']\n",
    "pr.attrs[\"units\"] = \"mm/day\""
   ]
  },
  {
   "cell_type": "code",
   "execution_count": 157,
   "id": "acb9ee12",
   "metadata": {},
   "outputs": [],
   "source": [
    "#Evaluation\n",
    "#Evaluation of the indicator through the xclim library\n",
    "Cwd=xc.maximum_consecutive_wet_days(pr, thresh='1 mm/day', freq='YS')\n",
    "Cwd_mean=Cwd.mean(dim='time')\n",
    "Cwd_mean=Cwd_mean.to_dataset(name='Cwd')\n",
    "Cwd=Cwd_mean.to_netcdf('/work/remhi/ap21322/SDG/netcdf_indicator/cwd_era5-2km-italy_year_comune_torino_1991-2020.nc')"
   ]
  },
  {
   "cell_type": "code",
   "execution_count": 112,
   "id": "44eb454a",
   "metadata": {},
   "outputs": [],
   "source": [
    "#CSV\n",
    "Cwd_mean=Cwd.mean(dim= ['rlat','rlon']) \n",
    "Cwd_std=Cwd.std(dim= ['rlat','rlon'])\n",
    "df=Cwd_mean.to_dataframe().rename(columns= {'TOT_PREC':'Cwd[days]'})\n",
    "df_std=Cwd_std.to_dataframe().rename(columns= {'TOT_PREC':'Std[days]'})\n",
    "df['Std[days]'] = np.round(df_std['Std[days]'],0)\n",
    "df['Cwd[days]'] = np.round(df['Cwd[days]'],0)\n",
    "df.to_csv('/work/remhi/ap21322/SDG/csv/cwd_era5-2km-italy_year_comune_torino_1991-2020.csv')"
   ]
  },
  {
   "cell_type": "code",
   "execution_count": 158,
   "id": "4780af34",
   "metadata": {},
   "outputs": [],
   "source": [
    "#ShapeFile\n",
    "mask_ds = xr.open_dataset('/work/remhi/ap21322/SDG/sh_mask_To/Mask_To_new.nc')\n",
    "msk_me = mask_ds['mask_torino_new']\n",
    "\n",
    "Cwd_mean= Cwd.mean(dim='time')\n",
    "clip_var = msk_me * Cwd_mean\n",
    "ds=clip_var.to_dataset(name='Cwd[d]')\n",
    "df=ds.to_dataframe().reset_index().drop(columns=[ 'rlon', 'rlat']).dropna().reset_index(drop=True)\n",
    "df['Cwd[d]'] = np.round(df['Cwd[d]'],0)\n",
    "from shapely.geometry import Point\n",
    "\n",
    "geometry = [Point(xy) for xy in zip(df['lon'], df['lat'])]\n",
    "df['geometry'] = geometry\n",
    "gdf = gpd.GeoDataFrame(df, geometry='geometry')\n",
    "gdf.to_file('/work/remhi/ap21322/SDG/shape/Consecutive_wet_days/cwd_era5-2km-italy_year_comune_torino_1991-2020.shp', driver='ESRI Shapefile')"
   ]
  },
  {
   "cell_type": "code",
   "execution_count": 86,
   "id": "1aefc4b6",
   "metadata": {},
   "outputs": [
    {
     "data": {
      "image/png": "[encoded data removed]",
      "text/plain": [
       "<Figure size 432x288 with 2 Axes>"
      ]
     },
     "metadata": {
      "needs_background": "light"
     },
     "output_type": "display_data"
    }
   ],
   "source": [
    "#Map\n",
    "ds = xr.open_dataset('/work/remhi/ap21322/SDG/netcdf_indicator/cwd_era5-2km-italy_year_comune_torino_1991-2020.nc')\n",
    "\n",
    "Cwd =  np.round((ds['Cwd']),0)\n",
    "lon = ds.lon.values\n",
    "lat = ds.lat.values\n",
    "\n",
    "vmax = round(np.nanmax(Cwd),0)\n",
    "vmin = 0\n",
    "\n",
    "ticks = np.round(np.arange(vmin, vmax+2,1),1)\n",
    "ticks1 = np.append(ticks, vmax)\n",
    "ticks_label = np.round(np.arange(vmin, vmax+2, 1),1)\n",
    "ticks_label1 = np.append(ticks_label, vmax)\n",
    "colors = ss(np.linspace(0, 0.8, len(ticks)-1))\n",
    "\n",
    "rev= list(reversed(colors))\n",
    "cmap = plc.ListedColormap(rev)\n",
    "\n",
    "mask_ds = xr.open_dataset('/work/remhi/ap21322/SDG/sh_mask_To/Mask_To_new.nc')\n",
    "msk_me = mask_ds['mask_torino_new']\n",
    "\n",
    "\n",
    "clip_var = msk_me * Cwd\n",
    "mp = Basemap(projection= 'merc', llcrnrlon= np.nanmin(lon) , llcrnrlat= np.nanmin(lat), urcrnrlon= np.nanmax(lon) , urcrnrlat= np.nanmax(lat) , resolution= 'i')\n",
    "mp.drawmapboundary()\n",
    "\n",
    "x,y = mp(lon,lat)\n",
    "mp.drawcoastlines(linewidth = 1)\n",
    "mp.drawmapboundary()\n",
    "mp.readshapefile('/work/remhi/ap21322/SDG/sh_mask_To/torino', 'torino', linewidth = 1)\n",
    "\n",
    "c_scheme = mp.pcolor(x,y,np.squeeze(clip_var[:,:]), cmap= cmap)\n",
    "\n",
    "cbar= mp.colorbar(c_scheme, location ='right',pad = '1%',ticks = ticks_label)\n",
    "plt.clim(vmin = vmin, vmax= vmax+1)\n",
    "cbar.set_label('days')\n",
    "plt.title('Consecutive Wet Days')\n",
    "plt.savefig('/work/remhi/ap21322/SDG/mappe_indicatori/cwd_era5-2km-italy_year_comune_torino_1991-2020.png', dpi = 300)"
   ]
  },
  {
   "cell_type": "markdown",
   "id": "f2926893",
   "metadata": {},
   "source": [
    "## Mean Temperature"
   ]
  },
  {
   "cell_type": "markdown",
   "id": "ccf6cff4",
   "metadata": {},
   "source": [
    "## Mean of daily mean temperature."
   ]
  },
  {
   "cell_type": "code",
   "execution_count": 162,
   "id": "33b9389e",
   "metadata": {},
   "outputs": [],
   "source": [
    "##DATA\n",
    "#Loading data: Temperature\n",
    "data_temp=xr.open_dataset('/work/remhi/ap21322/SDG/box_2km/T_2M_1991_2020_VHR-REA_IT_comune_torino.nc')\n",
    "t=data_temp['T_2M']\n",
    "Tg=t-273.15"
   ]
  },
  {
   "cell_type": "code",
   "execution_count": 163,
   "id": "71ecae05",
   "metadata": {},
   "outputs": [],
   "source": [
    "#Evaluation\n",
    "Tg = Tg.resample(time = '1Y').mean(dim='time')\n",
    "Tg_mean=Tg.mean(dim='time')\n",
    "Tg_mean=Tg_mean.to_dataset(name='Tg')\n",
    "Tg=Tg_mean.to_netcdf('/work/remhi/ap21322/SDG/netcdf_indicator/mean_temperature_era5-2km-italy_year_comune_torino_1991-2020.nc')"
   ]
  },
  {
   "cell_type": "code",
   "execution_count": 140,
   "id": "bc5153db",
   "metadata": {},
   "outputs": [],
   "source": [
    "#CSV\n",
    "Tg_mean=Tg.mean(dim= ['rlat','rlon']) \n",
    "Tg_std=Tg.std(dim= ['rlat','rlon'])\n",
    "df=Tg_mean.to_dataframe().reset_index().drop(columns=[ 'height_2m']).rename(columns= {'T_2M':'Tg[°C]'})\n",
    "df_std=Tg_std.to_dataframe().reset_index().drop(columns=['height_2m']).rename(columns= {'T_2M':'Std[°C]'})\n",
    "df['Std[°C]'] =(df_std['Std[°C]'])\n",
    "#df['T_2M'] = np.round(df['T_2M'],0)\n",
    "df.to_csv('/work/remhi/ap21322/SDG/csv/mean_temperature_era5-2km-italy_year_comune_torino_1991-2020.csv',index=False)"
   ]
  },
  {
   "cell_type": "code",
   "execution_count": 164,
   "id": "43aa804d",
   "metadata": {},
   "outputs": [],
   "source": [
    "#ShapeFile\n",
    "mask_ds = xr.open_dataset('/work/remhi/ap21322/SDG/sh_mask_To/Mask_To_new.nc')\n",
    "msk_me = mask_ds['mask_torino_new']\n",
    "\n",
    "Tg_mean= Tg.mean(dim='time')\n",
    "clip_var = msk_me * Tg_mean\n",
    "ds=clip_var.to_dataset(name='Tg[°C]')\n",
    "df=ds.to_dataframe().reset_index().drop(columns=[ 'rlon', 'rlat', 'height_2m']).dropna().reset_index(drop=True)\n",
    "\n",
    "from shapely.geometry import Point\n",
    "\n",
    "geometry = [Point(xy) for xy in zip(df['lon'], df['lat'])]\n",
    "df['geometry'] = geometry\n",
    "gdf = gpd.GeoDataFrame(df, geometry='geometry')\n",
    "gdf.to_file('/work/remhi/ap21322/SDG/shape/mean_temperature/mean_temperature_era5-2km-italy_year_comune_torino_1991-2020.shp', driver='ESRI Shapefile')"
   ]
  },
  {
   "cell_type": "code",
   "execution_count": 92,
   "id": "3816ea0f",
   "metadata": {},
   "outputs": [
    {
     "data": {
      "image/png": "[encoded data removed]",
      "text/plain": [
       "<Figure size 432x288 with 2 Axes>"
      ]
     },
     "metadata": {
      "needs_background": "light"
     },
     "output_type": "display_data"
    }
   ],
   "source": [
    "#Map\n",
    "Tg = Tg_mean\n",
    "lon = Tg_mean.lon.values   \n",
    "lat = Tg_mean.lat.values   \n",
    "\n",
    "vmax = round(np.nanmax(Tg),0) \n",
    "vmin = 0\n",
    "\n",
    "ticks = np.round(np.arange(vmin, vmax+1,1),1)\n",
    "ticks1 = np.append(ticks, vmax)\n",
    "ticks_label = np.round(np.arange(vmin, vmax+1, 1),1)\n",
    "ticks_label1 = np.append(ticks_label, vmax)\n",
    "colors = ss(np.linspace(0.6, 0.97, len(ticks)-1))\n",
    "\n",
    "\n",
    "cmap = plc.ListedColormap(colors)\n",
    "\n",
    "mask_ds = xr.open_dataset('/work/remhi/ap21322/SDG/sh_mask_To/Mask_To_new.nc')\n",
    "msk_me = mask_ds['mask_torino_new']\n",
    "\n",
    "\n",
    "clip_var = msk_me * Tg\n",
    "mp = Basemap(projection= 'merc', llcrnrlon= np.nanmin(lon) , llcrnrlat= np.nanmin(lat), urcrnrlon= np.nanmax(lon) , urcrnrlat= np.nanmax(lat) , resolution= 'i')\n",
    "mp.drawmapboundary()\n",
    "\n",
    "x,y = mp(lon,lat)\n",
    "mp.drawcoastlines(linewidth = 1)\n",
    "mp.drawmapboundary()\n",
    "mp.readshapefile('/work/remhi/ap21322/SDG/sh_mask_To/torino', 'torino', linewidth = 1)\n",
    "\n",
    "c_scheme = mp.pcolor(x,y,np.squeeze(clip_var[:,:]), cmap= cmap)\n",
    "\n",
    "cbar= mp.colorbar(c_scheme, location ='right',pad = '1%',ticks = ticks_label)\n",
    "plt.clim(vmin = vmin, vmax= vmax)\n",
    "cbar.set_label('°C')\n",
    "plt.title('Mean temperature')\n",
    "plt.savefig('/work/remhi/ap21322/SDG/mappe_indicatori/mean_temperature_era5-2km-italy_year_comune_torino_1991-2020.png', dpi = 300)"
   ]
  }
 ],
 "metadata": {
  "kernelspec": {
   "display_name": "Python 3 (ipykernel)",
   "language": "python",
   "name": "python3"
  },
  "language_info": {
   "codemirror_mode": {
    "name": "ipython",
    "version": 3
   },
   "file_extension": ".py",
   "mimetype": "text/x-python",
   "name": "python",
   "nbconvert_exporter": "python",
   "pygments_lexer": "ipython3",
   "version": "3.7.6"
  }
 },
 "nbformat": 4,
 "nbformat_minor": 5
}
